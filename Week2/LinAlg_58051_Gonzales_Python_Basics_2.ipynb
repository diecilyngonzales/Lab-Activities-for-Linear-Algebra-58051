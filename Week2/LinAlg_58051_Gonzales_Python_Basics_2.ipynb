{
  "nbformat": 4,
  "nbformat_minor": 0,
  "metadata": {
    "colab": {
      "name": "LinAlg 58051 - Gonzales - Python Basics 2.ipynb",
      "provenance": [],
      "collapsed_sections": [],
      "include_colab_link": true
    },
    "kernelspec": {
      "name": "python3",
      "display_name": "Python 3"
    }
  },
  "cells": [
    {
      "cell_type": "markdown",
      "metadata": {
        "id": "view-in-github",
        "colab_type": "text"
      },
      "source": [
        "<a href=\"https://colab.research.google.com/github/diecilyngonzales/Lab-Activities-for-Linear-Algebra-58051/blob/main/Week2/LinAlg_58051_Gonzales_Python_Basics_2.ipynb\" target=\"_parent\"><img src=\"https://colab.research.google.com/assets/colab-badge.svg\" alt=\"Open In Colab\"/></a>"
      ]
    },
    {
      "cell_type": "markdown",
      "metadata": {
        "id": "zOtZSflSE6s9"
      },
      "source": [
        "Testing of addition of 5 vectors with 2 parameters being: zero, and a non-zero and nonnegative integer"
      ]
    },
    {
      "cell_type": "code",
      "metadata": {
        "id": "uodiosvCQ1Vy",
        "colab": {
          "base_uri": "https://localhost:8080/",
          "height": 402
        },
        "outputId": "d5099b28-ad7c-4797-ab0a-885a6c8dbf41"
      },
      "source": [
        "import matplotlib.pyplot as plt\n",
        "import matplotlib\n",
        "import numpy as np\n",
        " \n",
        "A = np.array([0,5])\n",
        "B = np.array([5,0])\n",
        "C = np.array([3,0])\n",
        "D = np.array([0,3])\n",
        "E = np.array([4,0]) \n",
        "\n",
        "R = A+B+C+D+E\n",
        "print(\"A : {}\\n\\\n",
        "B : {}\\n\\\n",
        "C : {}\\n\\\n",
        "D : {}\\n\\\n",
        "E : {}\\n\\\n",
        "R : A + B + C + D + E = {}\".format(A,B,C,D,E,R))\n",
        "\n",
        "plt.xlim(-15, 15)\n",
        "plt.ylim(-15, 15)\n",
        "# print(B)\n",
        "plt.quiver(0,0, A[0], A[1], angles='xy', scale_units='xy',scale=1, label=\"A\", color='cadetblue') \n",
        "plt.quiver(A[0], A[1], B[0], B[1],angles='xy', scale_units='xy',scale=1, label=\"B\", color='midnightblue')\n",
        "plt.quiver(A[0]+B[0],A[1]+B[1], C[0], C[1], angles='xy', scale_units='xy',scale=1, label=\"C\", color='magenta')\n",
        "plt.quiver(A[0]+B[0]+C[0],A[1]+B[1]+C[1], D[0], D[1], angles='xy', scale_units='xy',scale=1, label=\"D\", color='cyan')\n",
        "plt.quiver(A[0]+B[0]+C[0]+D[0],A[1]+B[1]+C[1]+D[1], E[0], E[1], angles='xy', scale_units='xy',scale=1, label=\"E\", color='limegreen')\n",
        "R = A+B+C+D+E\n",
        "plt.quiver(0, 0, R[0], R[1],angles='xy', scale_units='xy',scale=1, label=\"R\", color='brown')\n",
        "R_mag = np.sqrt(np.sum((A[0]+B[0]+C[0]+D[0]+E[0])**2+(A[1]+B[1]+C[1]+D[1]+E[1])**2))\n",
        "plt.title(\"Resultant Vector\\nMagnitude:{:.2f}\".format(R_mag))\n",
        "plt.grid()\n",
        "plt.legend(loc=2)\n",
        "plt.show()"
      ],
      "execution_count": null,
      "outputs": [
        {
          "output_type": "stream",
          "text": [
            "A : [0 5]\n",
            "B : [5 0]\n",
            "C : [3 0]\n",
            "D : [0 3]\n",
            "E : [4 0]\n",
            "R : A + B + C + D + E = [12  8]\n"
          ],
          "name": "stdout"
        },
        {
          "output_type": "display_data",
          "data": {
            "image/png": "[encoded data removed]",
            "text/plain": [
              "<Figure size 432x288 with 1 Axes>"
            ]
          },
          "metadata": {
            "tags": [],
            "needs_background": "light"
          }
        }
      ]
    },
    {
      "cell_type": "markdown",
      "metadata": {
        "id": "bUjmX2tAJHIW"
      },
      "source": [
        "Testing subtraction of 5 vectors with 2 parameters being: zero, and a non-zero and nonnegative integer"
      ]
    },
    {
      "cell_type": "code",
      "metadata": {
        "colab": {
          "base_uri": "https://localhost:8080/",
          "height": 398
        },
        "id": "0oaLz3VxJUfi",
        "outputId": "e9fd0d84-08cd-4549-ec1f-db6c2903c073"
      },
      "source": [
        "import matplotlib.pyplot as plt  \r\n",
        "import matplotlib\r\n",
        "import numpy as np\r\n",
        " \r\n",
        "A = np.array([0,5])\r\n",
        "B = np.array([5,0])\r\n",
        "C = np.array([3,0])\r\n",
        "D = np.array([0,3])\r\n",
        "E = np.array([4,0]) \r\n",
        "\r\n",
        "R = A-B-C-D-E\r\n",
        "\r\n",
        "print(\"A : {}\\n\\\r\n",
        "B : {}\\n\\\r\n",
        "C : {}\\n\\\r\n",
        "D : {}\\n\\\r\n",
        "E : {}\\n\\\r\n",
        "R : A - B - C - D - E = {}\".format(A,B,C,D,E,R))\r\n",
        "\r\n",
        "plt.xlim(-15, 15)\r\n",
        "plt.ylim(-15, 15)\r\n",
        "# print(B)\r\n",
        "plt.quiver(0,0, A[0], A[1], angles='xy', scale_units='xy',scale=1, label=\"A\", color='cadetblue') \r\n",
        "plt.quiver(A[0], A[1], -B[0], -B[1],angles='xy', scale_units='xy',scale=1, label=\"B\", color='midnightblue')\r\n",
        "plt.quiver(A[0]-B[0],A[1]-B[1], -C[0], -C[1], angles='xy', scale_units='xy',scale=1, label=\"C\", color='magenta')\r\n",
        "plt.quiver(A[0]-B[0]-C[0],A[1]-B[1]-C[1], -D[0], -D[1], angles='xy', scale_units='xy',scale=1, label=\"D\", color='cyan')\r\n",
        "plt.quiver(A[0]-B[0]-C[0]-D[0],A[1]-B[1]-C[1]-D[1], -E[0], -E[1], angles='xy', scale_units='xy',scale=1, label=\"E\", color='limegreen')\r\n",
        "R = A-B-C-D-E\r\n",
        "plt.quiver(0, 0, R[0], R[1],angles='xy', scale_units='xy',scale=1, label=\"R\", color='brown')\r\n",
        "R_mag = np.sqrt(np.sum((A[0]-B[0]-C[0]-D[0]-E[0])**2+(A[1]-B[1]-C[1]-D[1]-E[1])**2))\r\n",
        "plt.title(\"Resultant Vector\\nMagnitude:{:.2f}\".format(R_mag))\r\n",
        "plt.grid()\r\n",
        "plt.legend(loc=1)\r\n",
        "plt.show()"
      ],
      "execution_count": null,
      "outputs": [
        {
          "output_type": "stream",
          "text": [
            "A : [0 5]\n",
            "B : [5 0]\n",
            "C : [3 0]\n",
            "D : [0 3]\n",
            "E : [4 0]\n",
            "R : A - B - C - D - E = [-12   2]\n"
          ],
          "name": "stdout"
        },
        {
          "output_type": "display_data",
          "data": {
            "image/png": "[encoded data removed]",
            "text/plain": [
              "<Figure size 432x288 with 1 Axes>"
            ]
          },
          "metadata": {
            "tags": [],
            "needs_background": "light"
          }
        }
      ]
    },
    {
      "cell_type": "markdown",
      "metadata": {
        "id": "8WDqa4zOKUvc"
      },
      "source": [
        "Testing 1 set of combination of addition and subtraction operators over 5 vectors with 2 parameters being: zero, and non-zero and nonnegative integer."
      ]
    },
    {
      "cell_type": "code",
      "metadata": {
        "colab": {
          "base_uri": "https://localhost:8080/",
          "height": 402
        },
        "id": "nHY1nB_uKuMM",
        "outputId": "2431040f-f538-4d3a-a990-25a7f49733b2"
      },
      "source": [
        "import matplotlib.pyplot as plt  \r\n",
        "import matplotlib\r\n",
        "import numpy as np\r\n",
        " \r\n",
        "A = np.array([0,5])\r\n",
        "B = np.array([5,0])\r\n",
        "C = np.array([3,0])\r\n",
        "D = np.array([0,3])\r\n",
        "E = np.array([4,0]) \r\n",
        "\r\n",
        "R = A+B-C+D-E\r\n",
        "\r\n",
        "print(\"A : {}\\n\\\r\n",
        "B : {}\\n\\\r\n",
        "C : {}\\n\\\r\n",
        "D : {}\\n\\\r\n",
        "E : {}\\n\\\r\n",
        "R : A + B - C + D - E = {}\".format(A,B,C,D,E,R))\r\n",
        "\r\n",
        "plt.xlim(-15, 15)\r\n",
        "plt.ylim(-15, 15)\r\n",
        "# print(B)\r\n",
        "plt.quiver(0,0, A[0], A[1], angles='xy', scale_units='xy',scale=1, label=\"A\", color='cadetblue') \r\n",
        "plt.quiver(A[0], A[1], B[0], B[1],angles='xy', scale_units='xy',scale=1, label=\"B\", color='midnightblue')\r\n",
        "plt.quiver(A[0]+B[0],A[1]+B[1], -C[0], -C[1], angles='xy', scale_units='xy',scale=1, label=\"C\", color='magenta')\r\n",
        "plt.quiver(A[0]+B[0]-C[0],A[1]+B[1]-C[1], D[0], D[1], angles='xy', scale_units='xy',scale=1, label=\"D\", color='cyan')\r\n",
        "plt.quiver(A[0]+B[0]-C[0]+D[0],A[1]+B[1]-C[1]+D[1], -E[0], -E[1], angles='xy', scale_units='xy',scale=1, label=\"E\", color='limegreen')\r\n",
        "R = A+B-C+D-E\r\n",
        "plt.quiver(0, 0, R[0], R[1],angles='xy', scale_units='xy',scale=1, label=\"R\", color='brown')\r\n",
        "R_mag = np.sqrt(np.sum((A[0]+B[0]-C[0]+D[0]-E[0])**2+(A[1]+B[1]-C[1]+D[1]-E[1])**2))\r\n",
        "plt.title(\"Resultant Vector\\nMagnitude:{:.2f}\".format(R_mag))\r\n",
        "plt.grid()\r\n",
        "plt.legend(loc=1)\r\n",
        "plt.show()"
      ],
      "execution_count": null,
      "outputs": [
        {
          "output_type": "stream",
          "text": [
            "A : [0 5]\n",
            "B : [5 0]\n",
            "C : [3 0]\n",
            "D : [0 3]\n",
            "E : [4 0]\n",
            "R : A + B - C + D - E = [-2  8]\n"
          ],
          "name": "stdout"
        },
        {
          "output_type": "display_data",
          "data": {
            "image/png": "[encoded data removed]",
            "text/plain": [
              "<Figure size 432x288 with 1 Axes>"
            ]
          },
          "metadata": {
            "tags": [],
            "needs_background": "light"
          }
        }
      ]
    },
    {
      "cell_type": "markdown",
      "metadata": {
        "id": "-iYq0XqZLJw2"
      },
      "source": [
        "Testing same combination of operators but now changing some of the nonnegative parameters as negative integers."
      ]
    },
    {
      "cell_type": "code",
      "metadata": {
        "colab": {
          "base_uri": "https://localhost:8080/",
          "height": 402
        },
        "id": "sEfKBpo8LZy5",
        "outputId": "4bc90c48-fdad-4bd6-fd74-d754a752c17f"
      },
      "source": [
        "import matplotlib.pyplot as plt  \r\n",
        "import matplotlib\r\n",
        "import numpy as np\r\n",
        " \r\n",
        "A = np.array([0,5])\r\n",
        "B = np.array([5,0])\r\n",
        "C = np.array([-3,0])\r\n",
        "D = np.array([0,-3])\r\n",
        "E = np.array([4,0]) \r\n",
        "\r\n",
        "R = A+B-C+D-E\r\n",
        "\r\n",
        "print(\"A : {}\\n\\\r\n",
        "B : {}\\n\\\r\n",
        "C : {}\\n\\\r\n",
        "D : {}\\n\\\r\n",
        "E : {}\\n\\\r\n",
        "R : A + B - C + D - E = {}\".format(A,B,C,D,E,R))\r\n",
        "\r\n",
        "plt.xlim(-15, 15)\r\n",
        "plt.ylim(-15, 15)\r\n",
        "# print(B)\r\n",
        "plt.quiver(0,0, A[0], A[1], angles='xy', scale_units='xy',scale=1, label=\"A\", color='cadetblue') \r\n",
        "plt.quiver(A[0], A[1], B[0], B[1],angles='xy', scale_units='xy',scale=1, label=\"B\", color='midnightblue')\r\n",
        "plt.quiver(A[0]+B[0],A[1]+B[1], -C[0], -C[1], angles='xy', scale_units='xy',scale=1, label=\"C\", color='magenta')\r\n",
        "plt.quiver(A[0]+B[0]-C[0],A[1]+B[1]-C[1], D[0], D[1], angles='xy', scale_units='xy',scale=1, label=\"D\", color='cyan')\r\n",
        "plt.quiver(A[0]+B[0]-C[0]+D[0],A[1]+B[1]-C[1]+D[1], -E[0], -E[1], angles='xy', scale_units='xy',scale=1, label=\"E\", color='limegreen')\r\n",
        "R = A+B-C+D-E\r\n",
        "plt.quiver(0, 0, R[0], R[1],angles='xy', scale_units='xy',scale=1, label=\"R\", color='brown')\r\n",
        "R_mag = np.sqrt(np.sum((A[0]+B[0]-C[0]+D[0]-E[0])**2+(A[1]+B[1]-C[1]+D[1]-E[1])**2))\r\n",
        "plt.title(\"Resultant Vector\\nMagnitude:{:.2f}\".format(R_mag))\r\n",
        "plt.grid()\r\n",
        "plt.legend(loc=1)\r\n",
        "plt.show()"
      ],
      "execution_count": null,
      "outputs": [
        {
          "output_type": "stream",
          "text": [
            "A : [0 5]\n",
            "B : [5 0]\n",
            "C : [-3  0]\n",
            "D : [ 0 -3]\n",
            "E : [4 0]\n",
            "R : A + B - C + D - E = [4 2]\n"
          ],
          "name": "stdout"
        },
        {
          "output_type": "display_data",
          "data": {
            "image/png": "[encoded data removed]",
            "text/plain": [
              "<Figure size 432x288 with 1 Axes>"
            ]
          },
          "metadata": {
            "tags": [],
            "needs_background": "light"
          }
        }
      ]
    },
    {
      "cell_type": "markdown",
      "metadata": {
        "id": "gRpM35O1Lr1i"
      },
      "source": [
        "Testing for 5 different vectors with a new combination set of addition and subtraction operators. The vectors will be composed of 2 parameters being: any integral number between -5 and 5."
      ]
    },
    {
      "cell_type": "code",
      "metadata": {
        "colab": {
          "base_uri": "https://localhost:8080/",
          "height": 526
        },
        "id": "RxUbic1wMHV1",
        "outputId": "f276222d-b2f6-4685-9933-0617834e5db5"
      },
      "source": [
        "import matplotlib.pyplot as plt  \r\n",
        "import matplotlib\r\n",
        "import numpy as np\r\n",
        " \r\n",
        "A = np.array([2,5])\r\n",
        "B = np.array([5,-3])\r\n",
        "C = np.array([-3,1])\r\n",
        "D = np.array([-4,3])\r\n",
        "E = np.array([2,0]) \r\n",
        "\r\n",
        "R1 = A+B\r\n",
        "R2 = A+B+C\r\n",
        "R3 = A+B+C-D\r\n",
        "R = A+B+C-D+E\r\n",
        "\r\n",
        "print(\"A : {}\\n\\\r\n",
        "B : {}\\n\\\r\n",
        "C : {}\\n\\\r\n",
        "D : {}\\n\\\r\n",
        "E : {}\\n\\\r\n",
        "R : A + B + C - D + E = {}\".format(A,B,C,D,E,R))\r\n",
        "\r\n",
        "print(\"\\n\\nShowing sequential results for better understandability.\")\r\n",
        "print(\"R1 : A+B = {}\".format(R1))\r\n",
        "print(\"R2 : R1+C = {}\".format(R2))\r\n",
        "print(\"R3 : R2-D = {}\".format(R3))\r\n",
        "print(\"R : R3+E = {}\".format(R))\r\n",
        "\r\n",
        "plt.xlim(-15, 15)\r\n",
        "plt.ylim(-15, 15)\r\n",
        "# print(B)\r\n",
        "plt.quiver(0,0, A[0], A[1], angles='xy', scale_units='xy',scale=1, label=\"A\", color='cadetblue') \r\n",
        "plt.quiver(A[0], A[1], B[0], B[1],angles='xy', scale_units='xy',scale=1, label=\"B\", color='midnightblue')\r\n",
        "plt.quiver(A[0]+B[0],A[1]+B[1], C[0], C[1], angles='xy', scale_units='xy',scale=1, label=\"C\", color='magenta')\r\n",
        "plt.quiver(A[0]+B[0]+C[0],A[1]+B[1]+C[1], -D[0], -D[1], angles='xy', scale_units='xy',scale=1, label=\"D\", color='cyan')\r\n",
        "plt.quiver(A[0]+B[0]+C[0]-D[0],A[1]+B[1]+C[1]-D[1], E[0], E[1], angles='xy', scale_units='xy',scale=1, label=\"E\", color='limegreen')\r\n",
        "R = A+B+C-D+E\r\n",
        "plt.quiver(0, 0, R[0], R[1],angles='xy', scale_units='xy',scale=1, label=\"R\", color='brown')\r\n",
        "R_mag = np.sqrt(np.sum((A[0]+B[0]+C[0]-D[0]+E[0])**2+(A[1]+B[1]+C[1]-D[1]+E[1])**2))\r\n",
        "plt.title(\"Resultant Vector\\nMagnitude:{:.2f}\".format(R_mag))\r\n",
        "plt.grid()\r\n",
        "plt.legend(loc=1)\r\n",
        "plt.show()"
      ],
      "execution_count": null,
      "outputs": [
        {
          "output_type": "stream",
          "text": [
            "A : [2 5]\n",
            "B : [ 5 -3]\n",
            "C : [-3  1]\n",
            "D : [-4  3]\n",
            "E : [2 0]\n",
            "R : A + B + C - D + E = [10  0]\n",
            "\n",
            "\n",
            "Showing sequential results for better understandability.\n",
            "R1 : A+B = [7 2]\n",
            "R2 : R1+C = [4 3]\n",
            "R3 : R2-D = [8 0]\n",
            "R : R3+E = [10  0]\n"
          ],
          "name": "stdout"
        },
        {
          "output_type": "display_data",
          "data": {
            "image/png": "[encoded data removed]",
            "text/plain": [
              "<Figure size 432x288 with 1 Axes>"
            ]
          },
          "metadata": {
            "tags": [],
            "needs_background": "light"
          }
        }
      ]
    },
    {
      "cell_type": "markdown",
      "metadata": {
        "id": "pepmb1fWLJR2"
      },
      "source": [
        "Introducing scalar multiplication to test sample from the previous second to the last case. Setting the same multiplier to all vectors."
      ]
    },
    {
      "cell_type": "code",
      "metadata": {
        "colab": {
          "base_uri": "https://localhost:8080/",
          "height": 402
        },
        "id": "OyTjSFffL1Ou",
        "outputId": "dc491272-79bf-4a44-d64c-5f015c931fbc"
      },
      "source": [
        "import matplotlib.pyplot as plt  \r\n",
        "import matplotlib\r\n",
        "import numpy as np\r\n",
        " \r\n",
        "A = np.array([0,5])\r\n",
        "B = np.array([5,0])\r\n",
        "C = np.array([-3,0])\r\n",
        "D = np.array([0,-3])\r\n",
        "E = np.array([4,0]) \r\n",
        "\r\n",
        "R = 3*(A+B-C+D-E)\r\n",
        "\r\n",
        "print(\"A : {}\\n\\\r\n",
        "B : {}\\n\\\r\n",
        "C : {}\\n\\\r\n",
        "D : {}\\n\\\r\n",
        "E : {}\\n\\\r\n",
        "R : 3A + 3B - 3C + 3D - 3E = {}\".format(A,B,C,D,E,R))\r\n",
        "\r\n",
        "A = 3*A\r\n",
        "B = 3*B\r\n",
        "C = 3*C\r\n",
        "D = 3*D\r\n",
        "E = 3*E\r\n",
        "\r\n",
        "plt.xlim(-25, 25)\r\n",
        "plt.ylim(-25, 25)\r\n",
        "# print(B)\r\n",
        "plt.quiver(0,0, A[0], A[1], angles='xy', scale_units='xy',scale=1, label=\"A\", color='cadetblue') \r\n",
        "plt.quiver(A[0], A[1], B[0], B[1],angles='xy', scale_units='xy',scale=1, label=\"B\", color='midnightblue')\r\n",
        "plt.quiver(A[0]+B[0],A[1]+B[1], -C[0], -C[1], angles='xy', scale_units='xy',scale=1, label=\"C\", color='magenta')\r\n",
        "plt.quiver(A[0]+B[0]-C[0],A[1]+B[1]-C[1], D[0], D[1], angles='xy', scale_units='xy',scale=1, label=\"D\", color='cyan')\r\n",
        "plt.quiver(A[0]+B[0]-C[0]+D[0],A[1]+B[1]-C[1]+D[1], -E[0], -E[1], angles='xy', scale_units='xy',scale=1, label=\"E\", color='limegreen')\r\n",
        "plt.quiver(0, 0, R[0], R[1],angles='xy', scale_units='xy',scale=1, label=\"R\", color='brown')\r\n",
        "R_mag = np.sqrt(np.sum((A[0]+B[0]-C[0]+D[0]-E[0])**2+(A[1]+B[1]-C[1]+D[1]-E[1])**2))\r\n",
        "plt.title(\"Resultant Vector\\nMagnitude:{:.2f}\".format(R_mag))\r\n",
        "plt.grid()\r\n",
        "plt.legend(loc=2)\r\n",
        "plt.show()"
      ],
      "execution_count": 1,
      "outputs": [
        {
          "output_type": "stream",
          "text": [
            "A : [0 5]\n",
            "B : [5 0]\n",
            "C : [-3  0]\n",
            "D : [ 0 -3]\n",
            "E : [4 0]\n",
            "R : 3A + 3B - 3C + 3D - 3E = [12  6]\n"
          ],
          "name": "stdout"
        },
        {
          "output_type": "display_data",
          "data": {
            "image/png": "[encoded data removed]",
            "text/plain": [
              "<Figure size 432x288 with 1 Axes>"
            ]
          },
          "metadata": {
            "tags": [],
            "needs_background": "light"
          }
        }
      ]
    },
    {
      "cell_type": "markdown",
      "metadata": {
        "id": "vQy0LqZPMuMG"
      },
      "source": [
        "Replacing only multiplication with division on the previous test sample. The multiplier stays the same"
      ]
    },
    {
      "cell_type": "code",
      "metadata": {
        "colab": {
          "base_uri": "https://localhost:8080/",
          "height": 402
        },
        "id": "plx1Re3cM3ga",
        "outputId": "e338b90b-fed8-4ca5-a1d3-472da5696d58"
      },
      "source": [
        "import matplotlib.pyplot as plt  \r\n",
        "import matplotlib\r\n",
        "import numpy as np\r\n",
        " \r\n",
        "A = np.array([0,5])\r\n",
        "B = np.array([5,0])\r\n",
        "C = np.array([-3,0])\r\n",
        "D = np.array([0,-3])\r\n",
        "E = np.array([4,0]) \r\n",
        "\r\n",
        "R = A/3+B/3-C/3+D/3-E/3\r\n",
        "\r\n",
        "print(\"A : {}\\n\\\r\n",
        "B : {}\\n\\\r\n",
        "C : {}\\n\\\r\n",
        "D : {}\\n\\\r\n",
        "E : {}\\n\\\r\n",
        "R : A/3 + B/3 - C/3 + D/3 - E/3 = {}\".format(A,B,C,D,E,np.round_(R,2)))\r\n",
        "\r\n",
        "A = A/3\r\n",
        "B = B/3\r\n",
        "C = C/3\r\n",
        "D = D/3\r\n",
        "E = E/3\r\n",
        "\r\n",
        "plt.xlim(-5, 5)\r\n",
        "plt.ylim(-5, 5)\r\n",
        "# print(B)\r\n",
        "plt.quiver(0,0, A[0], A[1], angles='xy', scale_units='xy',scale=1, label=\"A\", color='cadetblue') \r\n",
        "plt.quiver(A[0], A[1], B[0], B[1],angles='xy', scale_units='xy',scale=1, label=\"B\", color='midnightblue')\r\n",
        "plt.quiver(A[0]+B[0],A[1]+B[1], -C[0], -C[1], angles='xy', scale_units='xy',scale=1, label=\"C\", color='magenta')\r\n",
        "plt.quiver(A[0]+B[0]-C[0],A[1]+B[1]-C[1], D[0], D[1], angles='xy', scale_units='xy',scale=1, label=\"D\", color='cyan')\r\n",
        "plt.quiver(A[0]+B[0]-C[0]+D[0],A[1]+B[1]-C[1]+D[1], -E[0], -E[1], angles='xy', scale_units='xy',scale=1, label=\"E\", color='limegreen')\r\n",
        "plt.quiver(0, 0, R[0], R[1],angles='xy', scale_units='xy',scale=1, label=\"R\", color='brown')\r\n",
        "R_mag = np.sqrt(np.sum((A[0]+B[0]-C[0]+D[0]-E[0])**2+(A[1]+B[1]-C[1]+D[1]-E[1])**2))\r\n",
        "plt.title(\"Resultant Vector\\nMagnitude:{:.2f}\".format(R_mag))\r\n",
        "plt.grid()\r\n",
        "plt.legend(loc=1)\r\n",
        "plt.show()"
      ],
      "execution_count": 2,
      "outputs": [
        {
          "output_type": "stream",
          "text": [
            "A : [0 5]\n",
            "B : [5 0]\n",
            "C : [-3  0]\n",
            "D : [ 0 -3]\n",
            "E : [4 0]\n",
            "R : A/3 + B/3 - C/3 + D/3 - E/3 = [1.33 0.67]\n"
          ],
          "name": "stdout"
        },
        {
          "output_type": "display_data",
          "data": {
            "image/png": "[encoded data removed]",
            "text/plain": [
              "<Figure size 432x288 with 1 Axes>"
            ]
          },
          "metadata": {
            "tags": [],
            "needs_background": "light"
          }
        }
      ]
    },
    {
      "cell_type": "markdown",
      "metadata": {
        "id": "GXu4fritNGNY"
      },
      "source": [
        "Input both division and multiplication on the same test sample in alternating sequence. The multiplier stays the same."
      ]
    },
    {
      "cell_type": "code",
      "metadata": {
        "colab": {
          "base_uri": "https://localhost:8080/",
          "height": 402
        },
        "id": "Qn1kOQAFNYXQ",
        "outputId": "ca8ec3f9-3200-485e-a5d3-6ce95b583d3b"
      },
      "source": [
        "import matplotlib.pyplot as plt  \r\n",
        "import matplotlib\r\n",
        "import numpy as np\r\n",
        " \r\n",
        "A = np.array([0,5])\r\n",
        "B = np.array([5,0])\r\n",
        "C = np.array([-3,0])\r\n",
        "D = np.array([0,-3])\r\n",
        "E = np.array([4,0]) \r\n",
        "\r\n",
        "R = 3*A+B/3-C*3+D/3-E*3\r\n",
        "\r\n",
        "print(\"A : {}\\n\\\r\n",
        "B : {}\\n\\\r\n",
        "C : {}\\n\\\r\n",
        "D : {}\\n\\\r\n",
        "E : {}\\n\\\r\n",
        "R : A*3 + B/3 - C*3 + D/3 - E*3 = {}\".format(A,B,C,D,E,np.round_(R,2)))\r\n",
        "\r\n",
        "A = 3*A\r\n",
        "B = B/3\r\n",
        "C = C*3\r\n",
        "D = D/3\r\n",
        "E = E*3\r\n",
        "\r\n",
        "plt.xlim(-20, 20)\r\n",
        "plt.ylim(-20, 20)\r\n",
        "# print(B)\r\n",
        "plt.quiver(0,0, A[0], A[1], angles='xy', scale_units='xy',scale=1, label=\"A\", color='cadetblue') \r\n",
        "plt.quiver(A[0], A[1], B[0], B[1],angles='xy', scale_units='xy',scale=1, label=\"B\", color='midnightblue')\r\n",
        "plt.quiver(A[0]+B[0],A[1]+B[1], -C[0], -C[1], angles='xy', scale_units='xy',scale=1, label=\"C\", color='magenta')\r\n",
        "plt.quiver(A[0]+B[0]-C[0],A[1]+B[1]-C[1], D[0], D[1], angles='xy', scale_units='xy',scale=1, label=\"D\", color='cyan')\r\n",
        "plt.quiver(A[0]+B[0]-C[0]+D[0],A[1]+B[1]-C[1]+D[1], -E[0], -E[1], angles='xy', scale_units='xy',scale=1, label=\"E\", color='limegreen')\r\n",
        "plt.quiver(0, 0, R[0], R[1],angles='xy', scale_units='xy',scale=1, label=\"R\", color='brown')\r\n",
        "R_mag = np.sqrt(np.sum((A[0]+B[0]-C[0]+D[0]-E[0])**2+(A[1]+B[1]-C[1]+D[1]-E[1])**2))\r\n",
        "plt.title(\"Resultant Vector\\nMagnitude:{:.2f}\".format(R_mag))\r\n",
        "plt.grid()\r\n",
        "plt.legend(loc=1)\r\n",
        "plt.show()"
      ],
      "execution_count": 3,
      "outputs": [
        {
          "output_type": "stream",
          "text": [
            "A : [0 5]\n",
            "B : [5 0]\n",
            "C : [-3  0]\n",
            "D : [ 0 -3]\n",
            "E : [4 0]\n",
            "R : A*3 + B/3 - C*3 + D/3 - E*3 = [-1.33 14.  ]\n"
          ],
          "name": "stdout"
        },
        {
          "output_type": "display_data",
          "data": {
            "image/png": "[encoded data removed]",
            "text/plain": [
              "<Figure size 432x288 with 1 Axes>"
            ]
          },
          "metadata": {
            "tags": [],
            "needs_background": "light"
          }
        }
      ]
    },
    {
      "cell_type": "markdown",
      "metadata": {
        "id": "J-qh97z9PoFv"
      },
      "source": [
        "Using the same test sample above then changing the multipliers to various values between 3 to -3. Introducing numpy arithmetic operation functions to replace traditional operators."
      ]
    },
    {
      "cell_type": "code",
      "metadata": {
        "colab": {
          "base_uri": "https://localhost:8080/",
          "height": 402
        },
        "id": "BGk8xyOlP_6b",
        "outputId": "46005f79-0f3a-44fa-9ed1-7e94e385a93f"
      },
      "source": [
        "import matplotlib.pyplot as plt  \r\n",
        "import matplotlib\r\n",
        "import numpy as np\r\n",
        " \r\n",
        "A = np.array([0,5])\r\n",
        "B = np.array([5,0])\r\n",
        "C = np.array([-3,0])\r\n",
        "D = np.array([0,-3])\r\n",
        "E = np.array([4,0]) \r\n",
        "\r\n",
        "A1 = np.multiply(A,2)\r\n",
        "B1 = np.multiply(1.5,B)\r\n",
        "C1 = np.divide(C,2)\r\n",
        "D1 = np.divide(np.multiply(D,2),3)\r\n",
        "E1 = np.multiply(np.multiply(E,-2),1.6)\r\n",
        "\r\n",
        "R = np.subtract(np.add(np.subtract(np.add(A1,B1),C1),D1),E1)\r\n",
        "\r\n",
        "print(\"A : {}\\n\\\r\n",
        "B : {}\\n\\\r\n",
        "C : {}\\n\\\r\n",
        "D : {}\\n\\\r\n",
        "E : {}\\n\\\r\n",
        "R : A*2 + B*1.5 - C/2 + 2*D/3 - (-2*1.6)*E = {}\".format(A,B,C,D,E,R))\r\n",
        "\r\n",
        "A = A1\r\n",
        "B = B1\r\n",
        "C = C1\r\n",
        "D = D1\r\n",
        "E = E1\r\n",
        "\r\n",
        "plt.xlim(-30, 30)\r\n",
        "plt.ylim(-30, 30)\r\n",
        "\r\n",
        "plt.quiver(0,0, A[0], A[1], angles='xy', scale_units='xy',scale=1, label=\"A\", color='cadetblue') \r\n",
        "plt.quiver(A[0], A[1], B[0], B[1],angles='xy', scale_units='xy',scale=1, label=\"B\", color='midnightblue')\r\n",
        "plt.quiver(A[0]+B[0],A[1]+B[1], -C[0], -C[1], angles='xy', scale_units='xy',scale=1, label=\"C\", color='magenta')\r\n",
        "plt.quiver(A[0]+B[0]-C[0],A[1]+B[1]-C[1], D[0], D[1], angles='xy', scale_units='xy',scale=1, label=\"D\", color='cyan')\r\n",
        "plt.quiver(A[0]+B[0]-C[0]+D[0],A[1]+B[1]-C[1]+D[1], -E[0], -E[1], angles='xy', scale_units='xy',scale=1, label=\"E\", color='limegreen')\r\n",
        "plt.quiver(0, 0, R[0], R[1],angles='xy', scale_units='xy',scale=1, label=\"R\", color='brown')\r\n",
        "R_mag = np.sqrt(np.sum((A[0]+B[0]-C[0]+D[0]-E[0])**2+(A[1]+B[1]-C[1]+D[1]-E[1])**2))\r\n",
        "plt.title(\"Resultant Vector\\nMagnitude:{:.2f}\".format(R_mag))\r\n",
        "plt.grid()\r\n",
        "plt.legend(loc=2)\r\n",
        "plt.show()"
      ],
      "execution_count": 4,
      "outputs": [
        {
          "output_type": "stream",
          "text": [
            "A : [0 5]\n",
            "B : [5 0]\n",
            "C : [-3  0]\n",
            "D : [ 0 -3]\n",
            "E : [4 0]\n",
            "R : A*2 + B*1.5 - C/2 + 2*D/3 - (-2*1.6)*E = [21.8  8. ]\n"
          ],
          "name": "stdout"
        },
        {
          "output_type": "display_data",
          "data": {
            "image/png": "[encoded data removed]",
            "text/plain": [
              "<Figure size 432x288 with 1 Axes>"
            ]
          },
          "metadata": {
            "tags": [],
            "needs_background": "light"
          }
        }
      ]
    }
  ]
}