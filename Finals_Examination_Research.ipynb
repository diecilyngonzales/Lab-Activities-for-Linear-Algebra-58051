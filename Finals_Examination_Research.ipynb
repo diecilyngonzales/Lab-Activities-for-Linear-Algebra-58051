{
  "nbformat": 4,
  "nbformat_minor": 0,
  "metadata": {
    "colab": {
      "name": "Finals.ipynb",
      "provenance": [],
      "collapsed_sections": [],
      "include_colab_link": true
    },
    "kernelspec": {
      "name": "python3",
      "display_name": "Python 3"
    },
    "language_info": {
      "name": "python"
    }
  },
  "cells": [
    {
      "cell_type": "markdown",
      "metadata": {
        "id": "view-in-github",
        "colab_type": "text"
      },
      "source": [
        "<a href=\"https://colab.research.google.com/github/diecilyngonzales/Lab-Activities-for-Linear-Algebra-58051/blob/main/Finals_Examination_Research.ipynb\" target=\"_parent\"><img src=\"https://colab.research.google.com/assets/colab-badge.svg\" alt=\"Open In Colab\"/></a>"
      ]
    },
    {
      "cell_type": "markdown",
      "metadata": {
        "id": "QgVwK9bUOCyt"
      },
      "source": [
        " [REAL LIFE APPLICATIONS OF LINEAR ALGEBRA UNDER MATRIX MULTIPLICATIONS](https://www.researchgate.net/publication/350314436_REAL_LIFE_APPLICATIONS_OF_LINEAR_ALGEBRA_UNDER_MATRIX_MULTIPLICATIONS)\n",
        "\n",
        "The research discusses how linear algebra and matrix multiplication can/is used in the field of computer graphics. \n",
        "\n",
        "The first implementation on this notebook attempts to implement the same problems in the research paper using Python - by coding the same steps made by the researchers.\n",
        "\n",
        "The second implementation will attempt to improve the results of the researchers."
      ]
    },
    {
      "cell_type": "code",
      "metadata": {
        "id": "dT3hOGCtYeAv"
      },
      "source": [
        "#first implementation\n",
        "import numpy as np\n",
        "import matplotlib.pyplot as plt\n",
        "%matplotlib inline"
      ],
      "execution_count": null,
      "outputs": []
    },
    {
      "cell_type": "markdown",
      "metadata": {
        "id": "7fUr84hplghQ"
      },
      "source": [
        "<h1>First Implementation</h1>"
      ]
    },
    {
      "cell_type": "code",
      "metadata": {
        "id": "e-PBXS5IPzF4",
        "colab": {
          "base_uri": "https://localhost:8080/",
          "height": 281
        },
        "outputId": "88dffb80-9de1-4c5b-e547-f3729ba6c66c"
      },
      "source": [
        "#Initial State of the picture\n",
        "\n",
        "def connect_plot(array1, array2, line_color='black'):\n",
        "    plt.quiver(array1[0], array1[1], array2[0] - array1[0], array2[1] - array1[1], scale_units='xy', angles='xy', color=line_color, scale=1, headaxislength=1)\n",
        "\n",
        "initial = np.array([\n",
        "                    [3, 5],\n",
        "                    [1, 3],\n",
        "                    [4, 3],\n",
        "                    [1, 1],\n",
        "                    [4, 1]\n",
        "])\n",
        "\n",
        "plt.xlim(0, 12)\n",
        "plt.ylim(0, 12)\n",
        "\n",
        "for i in range(initial.shape[0]):\n",
        "  plt.scatter(initial[i,0], initial[i,1], color='blue')\n",
        "\n",
        "connect_plot(initial[1], initial[0])\n",
        "connect_plot(initial[2], initial[0])\n",
        "connect_plot(initial[1], initial[2])\n",
        "connect_plot(initial[3], initial[1])\n",
        "connect_plot(initial[4], initial[2])\n",
        "connect_plot(initial[4], initial[3])\n",
        "\n",
        "plt.title(\"Initial state of the Picture\")\n",
        "plt.grid()\n",
        "plt.show()"
      ],
      "execution_count": null,
      "outputs": [
        {
          "output_type": "display_data",
          "data": {
            "image/png": "[encoded data removed]",
            "text/plain": [
              "<Figure size 432x288 with 1 Axes>"
            ]
          },
          "metadata": {
            "tags": [],
            "needs_background": "light"
          }
        }
      ]
    },
    {
      "cell_type": "markdown",
      "metadata": {
        "id": "OqoEawk4llXH"
      },
      "source": [
        "<h2>Problem 1:</h2>\n",
        "\n",
        "Alter the size of the given image by using scaling process."
      ]
    },
    {
      "cell_type": "code",
      "metadata": {
        "colab": {
          "base_uri": "https://localhost:8080/",
          "height": 281
        },
        "id": "fv4DMDJLfaEc",
        "outputId": "4f92cbae-8ea0-45bb-f0dd-18077b9affe6"
      },
      "source": [
        "#Problem 1 - Scaling\n",
        "\n",
        "scale = np.array([\n",
        "                  [2, 0],\n",
        "                  [0, 2]\n",
        "])\n",
        "\n",
        "scaled_picture = initial @ scale\n",
        "\n",
        "plt.axis([0, 12, 0, 12])\n",
        "plt.gca().set_aspect(\"equal\")\n",
        "\n",
        "for i in range(scaled_picture.shape[0]):\n",
        "  plt.scatter(scaled_picture[i,0], scaled_picture[i,1], color='blue')\n",
        "\n",
        "connect_plot(scaled_picture[1], scaled_picture[0])\n",
        "connect_plot(scaled_picture[2], scaled_picture[0])\n",
        "connect_plot(scaled_picture[1], scaled_picture[2])\n",
        "connect_plot(scaled_picture[3], scaled_picture[1])\n",
        "connect_plot(scaled_picture[4], scaled_picture[2])\n",
        "connect_plot(scaled_picture[4], scaled_picture[3])\n",
        "\n",
        "plt.title(\"2x Scaled Picture\")\n",
        "plt.grid()\n",
        "plt.show()"
      ],
      "execution_count": null,
      "outputs": [
        {
          "output_type": "display_data",
          "data": {
            "image/png": "[encoded data removed]",
            "text/plain": [
              "<Figure size 432x288 with 1 Axes>"
            ]
          },
          "metadata": {
            "tags": [],
            "needs_background": "light"
          }
        }
      ]
    },
    {
      "cell_type": "markdown",
      "metadata": {
        "id": "AjSZlWZcgyo3"
      },
      "source": [
        "During the first problem, it is observed that the implementation of the picture on the graph can be simplified in order to minimize the number of lines to present the code"
      ]
    },
    {
      "cell_type": "code",
      "metadata": {
        "id": "fvTWAXHNgyMK"
      },
      "source": [
        "#created a user function to prevent repetitive coding in the succeeding problems\n",
        "def draw_picture(super_array, dot_color='blue', line_color='black'):\n",
        "    for i in range(super_array.shape[0]):\n",
        "      plt.scatter(super_array[i,0], super_array[i,1], color=dot_color)\n",
        "\n",
        "    connect_plot(super_array[1], super_array[0], line_color)\n",
        "    connect_plot(super_array[2], super_array[0], line_color)\n",
        "    connect_plot(super_array[1], super_array[2], line_color)\n",
        "    connect_plot(super_array[3], super_array[1], line_color)\n",
        "    connect_plot(super_array[4], super_array[2], line_color)\n",
        "    connect_plot(super_array[4], super_array[3], line_color)"
      ],
      "execution_count": null,
      "outputs": []
    },
    {
      "cell_type": "code",
      "metadata": {
        "colab": {
          "base_uri": "https://localhost:8080/",
          "height": 281
        },
        "id": "2K_o33x6h_pJ",
        "outputId": "721c1449-9f2e-4081-eebe-de37a8916a4b"
      },
      "source": [
        "#Implement the new function in problem 1 w/ comparison of initial\n",
        "scale = np.array([\n",
        "                  [2, 0],\n",
        "                  [0, 2]\n",
        "])\n",
        "\n",
        "scaled_picture = initial @ scale\n",
        "\n",
        "plt.axis([0, 12, 0, 12])\n",
        "plt.gca().set_aspect(\"equal\")\n",
        "\n",
        "draw_picture(scaled_picture)\n",
        "draw_picture(initial, 'red', 'green')\n",
        "\n",
        "plt.title(\"2x Scaled Picture vs Inital Picture\")\n",
        "plt.grid()\n",
        "plt.show()"
      ],
      "execution_count": null,
      "outputs": [
        {
          "output_type": "display_data",
          "data": {
            "image/png": "[encoded data removed]",
            "text/plain": [
              "<Figure size 432x288 with 1 Axes>"
            ]
          },
          "metadata": {
            "tags": [],
            "needs_background": "light"
          }
        }
      ]
    },
    {
      "cell_type": "markdown",
      "metadata": {
        "id": "YbeLWkYll614"
      },
      "source": [
        "<h2>Problems 2, 3, 4, and 5:</h2>\n",
        "\n",
        "**Problem 2:** Rotate the given house into 90 degree of its original position. <br>\n",
        "**Problem 3:** Rotate the given house into 180 degree of its original position.<br>\n",
        "**Problem 4:** Rotate the given house into 270 degree of its original position. <br>\n",
        "**Problem 5:** Rotate the given house into 360 degree of its original position."
      ]
    },
    {
      "cell_type": "code",
      "metadata": {
        "id": "0ToKhmtOitDy"
      },
      "source": [
        "#rotate 90 from original position\n",
        "rotate_90 = np.array([\n",
        "                      [0, 1],\n",
        "                      [-1, 0]\n",
        "])\n",
        "\n",
        "#rotate 180 from original position\n",
        "rotate_180 = np.array([\n",
        "                       [-1, 0],\n",
        "                       [0, -1]\n",
        "])\n",
        "\n",
        "#rotate 270 from original position\n",
        "rotate_270 = np.array([\n",
        "                       [0, -1],\n",
        "                       [1, 0]\n",
        "])\n",
        "\n",
        "#rotate 360 from original position\n",
        "rotate_360 = np.array([\n",
        "                       [1, 0],\n",
        "                       [0, 1]\n",
        "])"
      ],
      "execution_count": null,
      "outputs": []
    },
    {
      "cell_type": "code",
      "metadata": {
        "colab": {
          "base_uri": "https://localhost:8080/",
          "height": 295
        },
        "id": "IiUyBcEqjiAE",
        "outputId": "f2de84b3-ab37-4a72-9644-b724ddb9fd07"
      },
      "source": [
        "#Implement the rotations of the initial picture\n",
        "\n",
        "plt.axis([-6, 6, -6, 6])\n",
        "plt.gca().set_aspect(\"equal\")\n",
        "\n",
        "draw_picture(initial @ rotate_90)\n",
        "draw_picture(initial @ rotate_180, 'red', 'green')\n",
        "draw_picture(initial @ rotate_270, 'yellow', 'brown')\n",
        "draw_picture(initial @ rotate_360, 'gray', 'orange')\n",
        "\n",
        "plt.axvline(x=0, color='black')\n",
        "plt.axhline(y=0, color='black')\n",
        "plt.title(\"Problems 2, 3, 4, and 5\\n4 types of Rotation of the Initial Picture\")\n",
        "plt.grid()\n",
        "plt.show()"
      ],
      "execution_count": null,
      "outputs": [
        {
          "output_type": "display_data",
          "data": {
            "image/png": "[encoded data removed]",
            "text/plain": [
              "<Figure size 432x288 with 1 Axes>"
            ]
          },
          "metadata": {
            "tags": [],
            "needs_background": "light"
          }
        }
      ]
    },
    {
      "cell_type": "markdown",
      "metadata": {
        "id": "gqa-WRxbnK1B"
      },
      "source": [
        "<h2>Problem 6:</h2>\n",
        "\n",
        "Reflect the image of a given point from its original position."
      ]
    },
    {
      "cell_type": "code",
      "metadata": {
        "colab": {
          "base_uri": "https://localhost:8080/",
          "height": 295
        },
        "id": "LpHm0-0jneCh",
        "outputId": "d9bd1e31-3ea0-40e3-c62e-c2319dd43086"
      },
      "source": [
        "reflect = np.array([\n",
        "                    [1, 0],\n",
        "                    [0, -1]\n",
        "])\n",
        "\n",
        "plt.axis([-6, 6, -7, 7])\n",
        "plt.gca().set_aspect(\"equal\")\n",
        "\n",
        "draw_picture(initial)\n",
        "draw_picture(initial @ reflect, 'red', 'green')\n",
        "\n",
        "plt.axvline(x=0, color='black')\n",
        "plt.axhline(y=0, color='black')\n",
        "plt.title(\"Problems 6\\nReflection of the Initial Picture\")\n",
        "plt.grid()\n",
        "plt.show()"
      ],
      "execution_count": null,
      "outputs": [
        {
          "output_type": "display_data",
          "data": {
            "image/png": "[encoded data removed]",
            "text/plain": [
              "<Figure size 432x288 with 1 Axes>"
            ]
          },
          "metadata": {
            "tags": [],
            "needs_background": "light"
          }
        }
      ]
    },
    {
      "cell_type": "markdown",
      "metadata": {
        "id": "gtam9gURo5Ix"
      },
      "source": [
        "<h1>Second Implementation</h1>\n",
        "\n",
        "The first implementation attempted to code the results of the researchers using python. It can be observed in the graphs produced by pyplot, and also in the results presented by the researchers, that the transformation is pivot along the origin. This tends to displace the resulting image from its original position.\n",
        "\n",
        "The second implementation will attempt to produce the same results - but preserving the position of the image with respect to a reference point that can be defined by the user.\n",
        "\n"
      ]
    },
    {
      "cell_type": "markdown",
      "metadata": {
        "id": "3zn8bLeTyqzI"
      },
      "source": [
        "<h2>Problem 1: Revised Solution</h2>\n",
        "\n"
      ]
    },
    {
      "cell_type": "code",
      "metadata": {
        "id": "FBuwRaMlp6J5"
      },
      "source": [
        "#Problem 1 - Revised Solution\n",
        "\n",
        "def solution_revised_1(super_array, scale_factor, pivot= 0, offset = (0, 0)):\n",
        "    pivot_list = []\n",
        "    offset_list = []\n",
        "    for i in range(super_array.shape[0]):\n",
        "        pivot_list.append(list(super_array[pivot]))\n",
        "        offset_list.append(list(offset))\n",
        "    matrix_subtrahend = np.array(pivot_list)\n",
        "    matrix_offset = np.array(offset_list)\n",
        "\n",
        "    return super_array @ (scale_factor * np.eye(2)) - (scale_factor - 1) * matrix_subtrahend + matrix_offset"
      ],
      "execution_count": null,
      "outputs": []
    },
    {
      "cell_type": "code",
      "metadata": {
        "colab": {
          "base_uri": "https://localhost:8080/",
          "height": 295
        },
        "id": "yATpdTud1KBc",
        "outputId": "21d2c9ea-af0b-4393-d94f-61dbf5ca1401"
      },
      "source": [
        "#Implementation of Problem 1 - Revised Solution\n",
        "\n",
        "draw_picture(initial)\n",
        "draw_picture(solution_revised_1(initial, 2, 3), dot_color='red', line_color='green') #scale the initial drawing by 2, pivot at (1, 1)\n",
        "draw_picture(solution_revised_1(initial, 3, 0, (0, -1)), dot_color='yellow', line_color='brown') #scale the initial drawing by 3, pivot at (3, 5), offset by (0, -1)\n",
        "\n",
        "plt.axvline(x=0, color='black')\n",
        "plt.axhline(y=0, color='black')\n",
        "plt.title(\"Problems 1\\nRevised Solution\")\n",
        "plt.axis([-10, 10, -10, 10])\n",
        "plt.gca().set_aspect(\"equal\")\n",
        "plt.grid()\n",
        "plt.show()"
      ],
      "execution_count": null,
      "outputs": [
        {
          "output_type": "display_data",
          "data": {
            "image/png": "[encoded data removed]",
            "text/plain": [
              "<Figure size 432x288 with 1 Axes>"
            ]
          },
          "metadata": {
            "tags": [],
            "needs_background": "light"
          }
        }
      ]
    },
    {
      "cell_type": "code",
      "metadata": {
        "id": "J4-pO0pntZ9b"
      },
      "source": [
        "#Problems 2,3,4 and 5 - rotation revised solution\n",
        "\n",
        "def solution_revised_2(super_array, deg_rotation, pivot=0, offset = (0, 0)):\n",
        "    pivot_list = []\n",
        "    offset_list = []\n",
        "    for i in range(super_array.shape[0]):\n",
        "        pivot_list.append(list(super_array[pivot]))\n",
        "        offset_list.append(list(offset))\n",
        "    matrix_subtrahend = np.array(pivot_list)\n",
        "    matrix_offset = np.array(offset_list)\n",
        "    \n",
        "    rad_rotation = np.radians(deg_rotation)\n",
        "    rotate = np.array([\n",
        "                       [np.cos(rad_rotation), np.sin(rad_rotation)],\n",
        "                       [-np.sin(rad_rotation), np.cos(rad_rotation)]\n",
        "    ])\n",
        "    \n",
        "    #First, put the pivot point in the origin; then rotate the picture; and, bring back to the original position\n",
        "    return (super_array - matrix_subtrahend) @ rotate + matrix_subtrahend + matrix_offset"
      ],
      "execution_count": null,
      "outputs": []
    },
    {
      "cell_type": "markdown",
      "metadata": {
        "id": "hBoEMmO0Mdqq"
      },
      "source": [
        "<h2>Problems 2, 3, 4 and 5: Revised Solution </h2>"
      ]
    },
    {
      "cell_type": "code",
      "metadata": {
        "colab": {
          "base_uri": "https://localhost:8080/",
          "height": 295
        },
        "id": "JaZb8_Sk38tP",
        "outputId": "3f082631-452d-4dd8-890c-02241376b4a0"
      },
      "source": [
        "#Implementation of Problem 2, 3, 4 and 5 - Revised Solution\n",
        "\n",
        "draw_picture(initial)\n",
        "draw_picture(solution_revised_2(initial, 90, 3), 'red', 'green') #rotate the initial drawing by 90 degrees, pivot at (1, 1)\n",
        "draw_picture(solution_revised_2(initial, 45, 0, (2, 1)), 'yellow', 'brown') #rotate the initial drawing by 45 degrees, pivot at (3, 5), offset by (2, 1)\n",
        "draw_picture(solution_revised_2(initial, 180, 4, (1, 1)), 'gray', 'darkorange') #rotate the initial drawing by 45 degrees, pivot at (3, 5), offset by (1, 1)\n",
        "\n",
        "plt.axvline(x=0, color='black')\n",
        "plt.axhline(y=0, color='black')\n",
        "plt.title(\"Problems 6\\nReflection of the Initial Picture\")\n",
        "plt.axis([-10, 10, -10, 10])\n",
        "plt.gca().set_aspect(\"equal\")\n",
        "plt.grid()\n",
        "plt.show()"
      ],
      "execution_count": null,
      "outputs": [
        {
          "output_type": "display_data",
          "data": {
            "image/png": "[encoded data removed]",
            "text/plain": [
              "<Figure size 432x288 with 1 Axes>"
            ]
          },
          "metadata": {
            "tags": [],
            "needs_background": "light"
          }
        }
      ]
    }
  ]
}