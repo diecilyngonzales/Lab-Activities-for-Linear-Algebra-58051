{
  "nbformat": 4,
  "nbformat_minor": 0,
  "metadata": {
    "colab": {
      "name": "LinAlg 58051 Gonzales- Python Basics 1.ipynb",
      "provenance": [],
      "collapsed_sections": [],
      "include_colab_link": true
    },
    "kernelspec": {
      "name": "python3",
      "display_name": "Python 3"
    }
  },
  "cells": [
    {
      "cell_type": "markdown",
      "metadata": {
        "id": "view-in-github",
        "colab_type": "text"
      },
      "source": [
        "<a href=\"https://colab.research.google.com/github/diecilyngonzales/Lab-Activities-for-Linear-Algebra-58051/blob/main/Week%201/LinAlg_58051_Gonzales_Python_Basics_1.ipynb\" target=\"_parent\"><img src=\"https://colab.research.google.com/assets/colab-badge.svg\" alt=\"Open In Colab\"/></a>"
      ]
    },
    {
      "cell_type": "code",
      "metadata": {
        "id": "TLTAxQ0VPPTo"
      },
      "source": [
        "\n",
        "print(\" Semestral Grade in 2nd sem\")\n",
        "w_pregr, w_migr, w_figr = 0.3, 0.3, 0.4\n",
        "print(\" The weight of your semestral grades are: \\\n",
        "    \\n\\t{:.2%} for Prelims\\\n",
        "    \\n\\t{:.2%} for Midterms, and\\\n",
        "    \\n\\t{:.2%} for Finals.\".format(w_pregr, w_migr, w_figr))\n",
        "\n",
        "name = input(\" Enter name \")\n",
        "course = input(\" Enter Course: \")\n",
        "try:\n",
        "  pregr = int(input(\" Enter Prelim Grade: \"))\n",
        "  if pregr < 0 or pregr > 100:\n",
        "    raise ValueError\n",
        "  migr = int(input(\" Enter Midterm Grade: \"))\n",
        "  if migr < 0 or migr > 100:\n",
        "    raise ValueError\n",
        "  figr = int(input(\" Enter Finals Grade: \"))\n",
        "  if figr < 0 or figr > 100:\n",
        "    raise ValueError\n",
        "  \n",
        "  sem_grade = (pregr * w_pregr) + (migr * w_migr) + (figr * w_figr)\n",
        "\n",
        "  if sem_grade > 70:\n",
        "    emoji = \"\\U0001F600\"\n",
        "  elif sem_grade == 70:\n",
        "    emoji = \"\\U0001F606\"\n",
        "  else:\n",
        "    emoji = \"\\U0001F62D\"\n",
        "\n",
        "  print(\"Hello {}, your semestral grade is: {:.2f}    {}\".format(name, sem_grade, emoji))\n",
        "except ValueError:\n",
        "  print(\"Please input a valid grade value.\")"
      ],
      "execution_count": null,
      "outputs": []
    }
  ]
}