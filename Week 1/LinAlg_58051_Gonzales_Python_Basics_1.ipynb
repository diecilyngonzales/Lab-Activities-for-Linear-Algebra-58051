{
  "nbformat": 4,
  "nbformat_minor": 0,
  "metadata": {
    "colab": {
      "name": "LinAlg-58051 Gonzales - Python Basics 1.ipynb",
      "provenance": [],
      "collapsed_sections": [],
      "authorship_tag": "ABX9TyP7djFT134lviX/iB5LHPNY",
      "include_colab_link": true
    },
    "kernelspec": {
      "name": "python3",
      "display_name": "Python 3"
    }
  },
  "cells": [
    {
      "cell_type": "markdown",
      "metadata": {
        "id": "view-in-github",
        "colab_type": "text"
      },
      "source": [
        "<a href=\"https://colab.research.google.com/github/diecilyngonzales/Lab-Activities-for-Linear-Algebra-58051/blob/main/Week%201/LinAlg_58051_Gonzales_Python_Basics_1.ipynb\" target=\"_parent\"><img src=\"https://colab.research.google.com/assets/colab-badge.svg\" alt=\"Open In Colab\"/></a>"
      ]
    },
    {
      "cell_type": "code",
      "metadata": {
        "id": "uMcgIAF6e9pq"
      },
      "source": [
        "print(\" Semestral Grade in 2nd sem\")\r\n",
        "w_pregr, w_migr, w_figr = 0.3, 0.3, 0.4\r\n",
        "print(\" The weight of your semestral grades are: \\\r\n",
        "    \\n\\t{:.2%} for Prelims\\\r\n",
        "    \\n\\t{:.2%} for Midterms, and\\\r\n",
        "    \\n\\t{:.2%} for Finals.\".format(w_pregr, w_migr, w_figr))\r\n",
        "\r\n",
        "name = input(\" Enter name \")\r\n",
        "course = input(\" Enter Course: \")\r\n",
        "try:\r\n",
        "  pregr = int(input(\" Enter Prelim Grade: \"))\r\n",
        "  if pregr < 0 or pregr > 100:\r\n",
        "    raise ValueError\r\n",
        "  migr = int(input(\" Enter Midterm Grade: \"))\r\n",
        "  if migr < 0 or migr > 100:\r\n",
        "    raise ValueError\r\n",
        "  figr = int(input(\" Enter Finals Grade: \"))\r\n",
        "  if figr < 0 or figr > 100:\r\n",
        "    raise ValueError\r\n",
        "  \r\n",
        "  sem_grade = (pregr * w_pregr) + (migr * w_migr) + (figr * w_figr)\r\n",
        "\r\n",
        "  if sem_grade > 70:\r\n",
        "    emoji = \"\\U0001F600\"\r\n",
        "  elif sem_grade == 70:\r\n",
        "    emoji = \"\\U0001F606\"\r\n",
        "  else:\r\n",
        "    emoji = \"\\U0001F62D\"\r\n",
        "\r\n",
        "  print(\"Hello {}, your semestral grade is: {:.2f}    {}\".format(name, sem_grade, emoji))\r\n",
        "except ValueError:\r\n",
        "  print(\"Please input a valid grade value.\")"
      ],
      "execution_count": null,
      "outputs": []
    }
  ]
}