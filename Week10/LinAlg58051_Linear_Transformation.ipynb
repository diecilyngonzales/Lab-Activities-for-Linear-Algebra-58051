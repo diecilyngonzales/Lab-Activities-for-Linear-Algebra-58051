{
  "nbformat": 4,
  "nbformat_minor": 0,
  "metadata": {
    "colab": {
      "name": "LinAlg58051_Linear_Transformation.ipynb",
      "provenance": [],
      "include_colab_link": true
    },
    "kernelspec": {
      "name": "python3",
      "display_name": "Python 3"
    },
    "language_info": {
      "name": "python"
    }
  },
  "cells": [
    {
      "cell_type": "markdown",
      "metadata": {
        "id": "view-in-github",
        "colab_type": "text"
      },
      "source": [
        "<a href=\"https://colab.research.google.com/github/diecilyngonzales/Lab-Activities-for-Linear-Algebra-58051/blob/main/Week10/LinAlg58051_Linear_Transformation.ipynb\" target=\"_parent\"><img src=\"https://colab.research.google.com/assets/colab-badge.svg\" alt=\"Open In Colab\"/></a>"
      ]
    },
    {
      "cell_type": "markdown",
      "metadata": {
        "id": "3CoL-uckb4Pw"
      },
      "source": [
        " \n",
        "<h1>Lab 9 - Linear Translation</h1>"
      ]
    },
    {
      "cell_type": "code",
      "metadata": {
        "id": "GXsD-3d56Ou5"
      },
      "source": [
        "import numpy as np\n",
        "import matplotlib.pyplot as plt\n",
        "%matplotlib inline\n",
        " \n",
        "#create custom function for plotting matrices, same as in the lecture\n",
        "def scatterplot_(A, B = np.eye(2), interval=0.3, allowance=1):\n",
        "    dot_mat = A @ B\n",
        "    \n",
        "    c = np.arange(0, 1, interval) \n",
        " \n",
        "    plt.scatter(c*dot_mat[0, 0], c*dot_mat[0, 1], color='red') \n",
        "    plt.scatter(c*dot_mat[1, 0], c*dot_mat[1, 1], color='blue')\n",
        " \n",
        "    plt.xlim(np.amin(dot_mat[0,:]) - 2*allowance, np.amax(dot_mat[0,:]) + allowance)\n",
        "    plt.ylim(np.amin(dot_mat[1,:]) - 2*allowance, np.amax(dot_mat[1,:]) + allowance) \n",
        "    plt.grid()\n",
        "    plt.show()"
      ],
      "execution_count": null,
      "outputs": []
    },
    {
      "cell_type": "markdown",
      "metadata": {
        "id": "uzObj4TIkt3v"
      },
      "source": [
        "Implementation of the function <em>scatterplot_</em> to demonstrate translation using the matrix:\n",
        " \n",
        "$$\n",
        "  \\begin{bmatrix} 3 & 0\\\\ 0 & 3\\end{bmatrix} \n",
        "$$\n",
        " \n",
        "as A."
      ]
    },
    {
      "cell_type": "code",
      "metadata": {
        "colab": {
          "base_uri": "https://localhost:8080/",
          "height": 268
        },
        "id": "skRBw31sTyNw",
        "outputId": "341b1b53-2cfc-45d7-b4db-d1a79c92bdbd"
      },
      "source": [
        "X = np.array([\n",
        "    [3, 0], \n",
        "    [0, 3] \n",
        "])\n",
        " \n",
        "scatterplot_(X,interval=0.1)"
      ],
      "execution_count": null,
      "outputs": [
        {
          "output_type": "display_data",
          "data": {
            "image/png": "[encoded data removed]",
            "text/plain": [
              "<Figure size 432x288 with 1 Axes>"
            ]
          },
          "metadata": {
            "tags": [],
            "needs_background": "light"
          }
        }
      ]
    },
    {
      "cell_type": "markdown",
      "metadata": {
        "id": "SUqeeb-slzvs"
      },
      "source": [
        " Implementation of the function <em>scatterplot_</em> to demonstrate sheer, translation and scalar expansion using the matrix: \n",
        "$$\n",
        "  \\begin{bmatrix} 0 & 1\\\\ 2 & 3\\end{bmatrix} \n",
        "$$\n",
        " \n",
        "as A. This is acquired by reshaping the array range 1 to 4 into a 2x2 matrix."
      ]
    },
    {
      "cell_type": "code",
      "metadata": {
        "colab": {
          "base_uri": "https://localhost:8080/",
          "height": 268
        },
        "id": "HDlpDxcKak9j",
        "outputId": "78976364-7ccb-4c18-f0ea-d607aab07bc8"
      },
      "source": [
        "X2 = np.arange(4).reshape((2,2))\n",
        " \n",
        "scatterplot_(X2, interval=0.1)"
      ],
      "execution_count": null,
      "outputs": [
        {
          "output_type": "display_data",
          "data": {
            "image/png": "[encoded data removed]",
            "text/plain": [
              "<Figure size 432x288 with 1 Axes>"
            ]
          },
          "metadata": {
            "tags": [],
            "needs_background": "light"
          }
        }
      ]
    },
    {
      "cell_type": "markdown",
      "metadata": {
        "id": "KFDcHYljmMWz"
      },
      "source": [
        " Implementation of the function <em>scatterplot_</em> to demonstrate sheer translation using the matrix: \n",
        "$$\n",
        "  \\begin{bmatrix} 3 & 0\\\\ 0 & 3\\end{bmatrix} \n",
        "$$\n",
        " \n",
        "as A; and sheered by a factor described by the matrix <em>sheer</em> which is:\n",
        " \n",
        "$$\n",
        "  \\begin{bmatrix} - 1 & 1\\\\ 0 & 1\\end{bmatrix} \n",
        "$$"
      ]
    },
    {
      "cell_type": "code",
      "metadata": {
        "colab": {
          "base_uri": "https://localhost:8080/",
          "height": 268
        },
        "id": "1bInbKYyV6R6",
        "outputId": "de85383d-2749-40d1-8257-92a1b843fb01"
      },
      "source": [
        "  shear = np.array([\n",
        "    [-1, 1],\n",
        "    [0, 1]\n",
        "])\n",
        "scatterplot_(X, shear, 0.1)"
      ],
      "execution_count": null,
      "outputs": [
        {
          "output_type": "display_data",
          "data": {
            "image/png": "[encoded data removed]",
            "text/plain": [
              "<Figure size 432x288 with 1 Axes>"
            ]
          },
          "metadata": {
            "tags": [],
            "needs_background": "light"
          }
        }
      ]
    }
  ]
}