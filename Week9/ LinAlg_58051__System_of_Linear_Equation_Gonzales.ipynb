{
  "nbformat": 4,
  "nbformat_minor": 0,
  "metadata": {
    "colab": {
      "name": "LinAlg 58051_ System of Linear Equation_Gonzales.ipynb",
      "provenance": [],
      "include_colab_link": true
    },
    "kernelspec": {
      "display_name": "Python 3",
      "name": "python3"
    },
    "language_info": {
      "name": "python"
    }
  },
  "cells": [
    {
      "cell_type": "markdown",
      "metadata": {
        "id": "view-in-github",
        "colab_type": "text"
      },
      "source": [
        "<a href=\"https://colab.research.google.com/github/diecilyngonzales/Lab-Activities-for-Linear-Algebra-58051/blob/main/Week9/%20LinAlg_58051__System_of_Linear_Equation_Gonzales.ipynb\" target=\"_parent\"><img src=\"https://colab.research.google.com/assets/colab-badge.svg\" alt=\"Open In Colab\"/></a>"
      ]
    },
    {
      "cell_type": "markdown",
      "metadata": {
        "id": "CFOmO4K9crt6"
      },
      "source": [
        " You’re going to the mall with your friends and you have PHP10,000 from your Tita in the states to spend for your birthday. You discover a store that has all jeans for PHP2,000 and all dresses for PHP1, 000. You really, really want to take home 8 items of clothing because you “need” that many new things.\n",
        " \n",
        "Wouldn’t it be clever to find out how many pairs of jeans and how many dresses you can buy so you use the whole PHP10, 000?"
      ]
    },
    {
      "cell_type": "markdown",
      "metadata": {
        "id": "noz2Q0V9eF6f"
      },
      "source": [
        "We let:\n",
        " \n",
        "$x = $ number of pairs of jeans\n",
        " \n",
        "$ y=$ number of dresses\n",
        "\n",
        "\n",
        " \n",
        "----\n",
        " \n",
        "Then, the linear equations are:\n",
        " \n",
        "$ 2000x +1000y = 10000$; \n",
        " \n",
        ": This totals the amount spent for the dresses and jeans\n",
        " \n",
        "$x + y = 8$;\n",
        " \n",
        ": Since we want to have exactly 8 items from the PHP 10,000 shopping money\n",
        " \n",
        "-----\n",
        " \n",
        "<strong>To summarize:</strong>\n",
        " \n",
        "$$\n",
        "  2000x + 1000y = 10000\n",
        "$$\n",
        "$$\n",
        "  x + y = 8\n",
        "$$\n",
        "Solve for $x$ and $y$\n",
        "\n",
        "----\n",
        " \n",
        "Vectorize the problem:\n",
        " \n",
        "$$\n",
        "  \\begin{bmatrix} 2000&1000\\\\1&1 \\end{bmatrix} \\cdot \\begin{bmatrix} x\\\\y \\end{bmatrix} = \\begin{bmatrix} 10000\\\\8\\end{bmatrix}\n",
        "$$"
      ]
    },
    {
      "cell_type": "code",
      "metadata": {
        "colab": {
          "base_uri": "https://localhost:8080/"
        },
        "id": "s-ytdjCfU91O",
        "outputId": "7a621df2-db7d-43d2-c10f-cc1d98921f1c"
      },
      "source": [
        "import numpy as np\n",
        " \n",
        "cost_count = np.array([\n",
        "[2000, 1000],\n",
        "[1, 1]\n",
        "])\n",
        " \n",
        "total = np.array([\n",
        "[10000],[8]\n",
        "])\n",
        " \n",
        "result = np.linalg.inv(cost_count) @ total\n",
        "print(f'Number of jeans to buy: {int(result.flatten()[0])}\\nNumber of dresses to buy: {int(result.flatten()[1])}\\n')"
      ],
      "execution_count": null,
      "outputs": [
        {
          "output_type": "stream",
          "text": [
            "Number of jeans to buy: 2\n",
            "Number of dresses to buy: 6\n",
            "\n"
          ],
          "name": "stdout"
        }
      ]
    },
    {
      "cell_type": "code",
      "metadata": {
        "id": "i4Nn1dCsjLPj",
        "colab": {
          "base_uri": "https://localhost:8080/"
        },
        "outputId": "15474d65-37fe-4b91-b532-60c8f3089c29"
      },
      "source": [
        " #check the value of result\n",
        "print(result)\n",
        " \n",
        "#solve the same problem using np.linalg.solve()\n",
        " \n",
        "result_alt = np.linalg.solve(cost_count, total)\n",
        "print(f'\\n{result_alt}\\n')\n",
        " \n",
        "#check if both results are the same\n",
        "np.allclose(result, result_alt)"
      ],
      "execution_count": null,
      "outputs": [
        {
          "output_type": "stream",
          "text": [
            "[[2.]\n",
            " [6.]]\n",
            "\n",
            "[[2.]\n",
            " [6.]]\n",
            "\n"
          ],
          "name": "stdout"
        },
        {
          "output_type": "execute_result",
          "data": {
            "text/plain": [
              "True"
            ]
          },
          "metadata": {
            "tags": []
          },
          "execution_count": 3
        }
      ]
    }
  ]
}