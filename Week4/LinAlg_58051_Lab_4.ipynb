{
  "nbformat": 4,
  "nbformat_minor": 0,
  "metadata": {
    "colab": {
      "name": "LinAlg 58051-Lab 4.ipynb",
      "provenance": [],
      "collapsed_sections": [],
      "include_colab_link": true
    },
    "kernelspec": {
      "name": "python3",
      "display_name": "Python 3"
    }
  },
  "cells": [
    {
      "cell_type": "markdown",
      "metadata": {
        "id": "view-in-github",
        "colab_type": "text"
      },
      "source": [
        "<a href=\"https://colab.research.google.com/github/diecilyngonzales/Lab-Activities-for-Linear-Algebra-58051/blob/main/Week4/LinAlg_58051_Lab_4.ipynb\" target=\"_parent\"><img src=\"https://colab.research.google.com/assets/colab-badge.svg\" alt=\"Open In Colab\"/></a>"
      ]
    },
    {
      "cell_type": "markdown",
      "metadata": {
        "id": "ZNK2NDRfUR20"
      },
      "source": [
        "Task #1"
      ]
    },
    {
      "cell_type": "code",
      "metadata": {
        "id": "7jXawbrkTgvP",
        "colab": {
          "base_uri": "https://localhost:8080/"
        },
        "outputId": "134e0cf7-323b-4736-b404-1f97bf0d939a"
      },
      "source": [
        "import numpy as np\n",
        "import math as mt\n",
        " \n",
        "#Creating nonpy function to determine Vector norm.\n",
        "def nonpylinalgnorm(Vector):\n",
        "    #Check if the given value is a list with at least 4 elements\n",
        "    if len(Vector)>=4:\n",
        "      #get square root or the sum of the square of all elements inside the vector and return it as value of the function\n",
        "      z = 0\n",
        "      for x in Vector:\n",
        "        z = z + x**2\n",
        "      z = mt.sqrt(z)\n",
        "      return z\n",
        "    else:\n",
        "      #if the list has less than 4 elements, do not return a value\n",
        "      print('The vector should have at least 4 elements.')\n",
        " \n",
        "#Create function to print results of numpy.linalg.norm vs Euclidian norm formula\n",
        "def nonpynumpydiff(Vector):\n",
        "    x = '''Modulus of Vector {Vector} using Euclidian Norm is \\n{Nonpy:.6f}\\nModulus of Vector {Vector} using numpy.linalg.norm is\\n{Numpy:.6f}'''\n",
        "    print(x.format(Vector = Vector, Nonpy = nonpylinalgnorm(Vector), Numpy = np.linalg.norm(Vector)))\n",
        "    print(\"-------------------------------------------------------------------------end\")\n",
        " \n",
        "#Create 6 sample vectors for testing nonpylinalgnorm\n",
        "Vect1 = [4, 0, 5, 1] \n",
        "Vect2 = [3, 2, -9, 0]\n",
        "Vect3 = [5, 5, 0, 2]\n",
        "Vect4 = [0, 2, 4, -5]\n",
        "Vect5 = [2, 3, 5, 5]\n",
        "Vect6 = [-4, -6, 3, 6]\n",
        " \n",
        "#Print results of Euclidian norm formula vs numpy.linalg.norm\n",
        "nonpynumpydiff(Vect1)\n",
        "nonpynumpydiff(Vect2)\n",
        "nonpynumpydiff(Vect3)\n",
        "nonpynumpydiff(Vect4)\n",
        "nonpynumpydiff(Vect5)\n",
        "nonpynumpydiff(Vect6)"
      ],
      "execution_count": null,
      "outputs": [
        {
          "output_type": "stream",
          "text": [
            "Modulus of Vector [4, 0, 5, 1] using Euclidian Norm is \n",
            "6.480741\n",
            "Modulus of Vector [4, 0, 5, 1] using numpy.linalg.norm is\n",
            "6.480741\n",
            "-------------------------------------------------------------------------end\n",
            "Modulus of Vector [3, 2, -9, 0] using Euclidian Norm is \n",
            "9.695360\n",
            "Modulus of Vector [3, 2, -9, 0] using numpy.linalg.norm is\n",
            "9.695360\n",
            "-------------------------------------------------------------------------end\n",
            "Modulus of Vector [5, 5, 0, 2] using Euclidian Norm is \n",
            "7.348469\n",
            "Modulus of Vector [5, 5, 0, 2] using numpy.linalg.norm is\n",
            "7.348469\n",
            "-------------------------------------------------------------------------end\n",
            "Modulus of Vector [0, 2, 4, -5] using Euclidian Norm is \n",
            "6.708204\n",
            "Modulus of Vector [0, 2, 4, -5] using numpy.linalg.norm is\n",
            "6.708204\n",
            "-------------------------------------------------------------------------end\n",
            "Modulus of Vector [2, 3, 5, 5] using Euclidian Norm is \n",
            "7.937254\n",
            "Modulus of Vector [2, 3, 5, 5] using numpy.linalg.norm is\n",
            "7.937254\n",
            "-------------------------------------------------------------------------end\n",
            "Modulus of Vector [-4, -6, 3, 6] using Euclidian Norm is \n",
            "9.848858\n",
            "Modulus of Vector [-4, -6, 3, 6] using numpy.linalg.norm is\n",
            "9.848858\n",
            "-------------------------------------------------------------------------end\n"
          ],
          "name": "stdout"
        }
      ]
    },
    {
      "cell_type": "markdown",
      "metadata": {
        "id": "JN3DCg75EyxX"
      },
      "source": [
        "Task #2"
      ]
    },
    {
      "cell_type": "code",
      "metadata": {
        "id": "1TE-GLdvEZt1",
        "colab": {
          "base_uri": "https://localhost:8080/"
        },
        "outputId": "4ba0b01d-ab7a-44e7-a295-5a8451a16e4a"
      },
      "source": [
        "import numpy as np\n",
        " \n",
        "#Create function to acquire the dot product of 2 vectors with at least 5 elements\n",
        "def nonpyinner(Vector1, Vector2):\n",
        "    #Check if the vectors have at least 5 elements and have equal dimensions\n",
        "    if len(Vector1)>=5 and len(Vector2)>=5 and len(Vector1)==len(Vector2):\n",
        "      #get the sum of the scalar product of each of the elements\n",
        "      z = 0\n",
        "      i = 0\n",
        "      for x in Vector1:\n",
        "        z = z + x*Vector2[i]\n",
        "        i = i + 1\n",
        "      return z\n",
        "    else:\n",
        "      #if at least one of the vectors has less than 5 elements or non equal dimensions\n",
        "      print('The elements of at least one of the given vectors is less than 5.') \n",
        " \n",
        "#Create function to generate results using the nonpy function\n",
        "def nonpyvsnumpydiff(Vector1, Vector2):\n",
        "    x = '''Dot Product using nonpyinner of:\\n{Vector1} and {Vector2} is: {NonpyInner}\\nDot Product using numpy.inner of:\\n {Vector1} and {Vector2} is: {NumpyInner}'''\n",
        "    print(x.format(Vector1 = Vector1, Vector2 = Vector2, NonpyInner = nonpyinner(Vector1, Vector2),NumpyInner = np.inner(Vector1, Vector2)))\n",
        "    print('---------------------------------------------------------------------------------end')\n",
        " \n",
        "##----------------Pair1\n",
        "x1 = [7, 9, 7, 1, 3]\n",
        "x2 = [5, 8, 4, 11, 20]\n",
        "##----------------Pair2\n",
        "x3 = [12, 23, 4, 10, 18]\n",
        "x4 = [24, 15, 8, 34, 22]\n",
        "##----------------Pair3\n",
        "x5 = [3, 42, 13, 22, 9]\n",
        "x6 = [2, 9, 0, -13, 18]\n",
        "##----------------Pair4\n",
        "x7 = [12, -19, 10, -5, 9]\n",
        "x8 = [15, 12, 0, 25, 12]\n",
        "##----------------Pair5\n",
        "x9 = [25, -12, 35, 4, 26]\n",
        "x10 = [10, 15, 6, -45, 19]\n",
        " \n",
        "##print results\n",
        "nonpyvsnumpydiff(x1,x2)\n",
        "nonpyvsnumpydiff(x3,x4)\n",
        "nonpyvsnumpydiff(x5,x6)\n",
        "nonpyvsnumpydiff(x7,x8)\n",
        "nonpyvsnumpydiff(x9,x10)"
      ],
      "execution_count": 4,
      "outputs": [
        {
          "output_type": "stream",
          "text": [
            "Dot Product using nonpyinner of:\n",
            "[7, 9, 7, 1, 3] and [5, 8, 4, 11, 20] is: 206\n",
            "Dot Product using numpy.inner of:\n",
            " [7, 9, 7, 1, 3] and [5, 8, 4, 11, 20] is: 206\n",
            "---------------------------------------------------------------------------------end\n",
            "Dot Product using nonpyinner of:\n",
            "[12, 23, 4, 10, 18] and [24, 15, 8, 34, 22] is: 1401\n",
            "Dot Product using numpy.inner of:\n",
            " [12, 23, 4, 10, 18] and [24, 15, 8, 34, 22] is: 1401\n",
            "---------------------------------------------------------------------------------end\n",
            "Dot Product using nonpyinner of:\n",
            "[3, 42, 13, 22, 9] and [2, 9, 0, -13, 18] is: 260\n",
            "Dot Product using numpy.inner of:\n",
            " [3, 42, 13, 22, 9] and [2, 9, 0, -13, 18] is: 260\n",
            "---------------------------------------------------------------------------------end\n",
            "Dot Product using nonpyinner of:\n",
            "[12, -19, 10, -5, 9] and [15, 12, 0, 25, 12] is: -65\n",
            "Dot Product using numpy.inner of:\n",
            " [12, -19, 10, -5, 9] and [15, 12, 0, 25, 12] is: -65\n",
            "---------------------------------------------------------------------------------end\n",
            "Dot Product using nonpyinner of:\n",
            "[25, -12, 35, 4, 26] and [10, 15, 6, -45, 19] is: 594\n",
            "Dot Product using numpy.inner of:\n",
            " [25, -12, 35, 4, 26] and [10, 15, 6, -45, 19] is: 594\n",
            "---------------------------------------------------------------------------------end\n"
          ],
          "name": "stdout"
        }
      ]
    },
    {
      "cell_type": "markdown",
      "metadata": {
        "id": "Lbdf70h-FYDA"
      },
      "source": [
        "Task #3\r\n",
        "\r\n",
        "Solve and plot:\r\n",
        "$$\r\n",
        "  (A^2 + B^2 + C^2)*(A*(B+A*B))/C*||A+B+C||\r\n",
        "$$\r\n",
        "Where:\r\n",
        "$$\r\n",
        "  A = \\begin{bmatrix}-0.4 \\\\ 4.3 \\\\ -0.6\\end{bmatrix}, \r\n",
        "  B = \\begin{bmatrix}-0.2 \\\\ 0.2 \\\\ 1\\end{bmatrix}, \r\n",
        "  C = \\begin{bmatrix}-0.2 \\\\ 2.1 \\\\ -1.5\\end{bmatrix} \r\n",
        "$$"
      ]
    },
    {
      "cell_type": "code",
      "metadata": {
        "id": "UxWKXfruEyFR",
        "colab": {
          "base_uri": "https://localhost:8080/",
          "height": 247
        },
        "outputId": "fb9c6062-c454-4656-e846-671c110a667d"
      },
      "source": [
        "##START PROGRAM##\n",
        "##Define various functions for vector operations used in sample\n",
        "  ## (A^2+B^2+C^2)*(A*(B+A*B)/C)*||A+B+C||\n",
        "  ## functions defined: add, dot, cross, scalar, norm, square, divide, vecround\n",
        "  ## Start: R= A X B {cross(A,B)}\n",
        "  ## Follow: R1 = B + R {add(R,B)}\n",
        "  ## Follow: R2 = A x R1 {cross(A, R1)}\n",
        "  ## Follow: R3 = R2 / C {divide(R2 / C)}\n",
        "  ## Follow: R4 = A^2 + B^2 {add(square(A),square(B))}\n",
        "  ## Follow: R5 = C^2 + R4 {add(square(C),R4)}\n",
        "  ## Follow: R6 = R5 X R3 {cross(R5, R3)}\n",
        "  ## Follow: R7 = A+B {add(A, B)}\n",
        "  ## Follow: R8 = ||R7 + C||  {norm(add(R7, C))}\n",
        "  ## Follow: R9 = R8 * R6 {scalar(R8, R6)}\n",
        "  ## End: Round R9 to ten thousandths digit {vecround(R9,4)}\n",
        "##plot the resultant vector (R7)\n",
        " \n",
        "import math\n",
        "import matplotlib.pyplot as plt\n",
        " \n",
        "##---------------------------------------------------START FUNCTION-------##\n",
        "##Add function\n",
        "def add(Vector1, Vector2):\n",
        "  if len(Vector1)==len(Vector2):\n",
        "    z = []\n",
        "    for x in range(len(Vector1)):\n",
        "      val = Vector1[x]+Vector2[x]\n",
        "      z.append(val)\n",
        "    return z\n",
        " \n",
        "##Dot Multiplication function\n",
        "def dot(Vector1, Vector2):\n",
        "  if len(Vector1)==len(Vector2):\n",
        "    z = 0\n",
        "    i = 0\n",
        "    for x in Vector1:\n",
        "      z = z + x*Vector2[i]\n",
        "      i = i + 1\n",
        "    return z\n",
        " \n",
        "##Cross Multiplication Function \n",
        "def cross(Vector1, Vector2):\n",
        "  if len(Vector1)==len(Vector2):\n",
        "      Vector1Prime = Vector1 + Vector1\n",
        "      Vector2Prime = Vector2 + Vector2\n",
        "      val = [Vector1Prime, Vector2Prime]\n",
        "      z = []\n",
        "      for x in range(len(Vector1)):\n",
        "        res = Vector1Prime[x+1]*Vector2Prime[x+2]-(Vector2Prime[x+1]*Vector1Prime[x+2])\n",
        "        if x % 2 == 0:\n",
        "          z.append(res)\n",
        "        else:\n",
        "          z.append(res)\n",
        "      return z\n",
        " \n",
        "#Scalar Multiplication Function\n",
        "def scalar(scalar, Vector):\n",
        "  z = []\n",
        "  for x in Vector:\n",
        "    z.append(scalar * x)\n",
        "  return z\n",
        " \n",
        "##Euclidian Norm Function\n",
        "def norm(Vector):\n",
        "  z = 0\n",
        "  for x in Vector:\n",
        "    z = z + x**2\n",
        "    z = math.sqrt(z)\n",
        "  return z\n",
        " \n",
        "##Square Function\n",
        "def square(Vector):\n",
        "  z = []\n",
        "  for x in Vector:\n",
        "    z.append(x**2)\n",
        "  return z\n",
        " \n",
        "##Divide Function\n",
        "def divide(Vector1, Vector2):\n",
        "  if len(Vector1)==len(Vector2):\n",
        "    z = []\n",
        "    for x in range(len(Vector1)):\n",
        "      val = Vector1[x]/Vector2[x]\n",
        "      z.append(val)\n",
        "    return z\n",
        " \n",
        "##Round off Function\n",
        "def vecround(Vector, ndigits=2):\n",
        "  z = []\n",
        "  for x in Vector:\n",
        "    z.append(round(x, ndigits))\n",
        "  return z\n",
        "##--------------------------------------------------------------END FUNCTION----##\n",
        " \n",
        " \n",
        "#Values of A,B, and C\n",
        "A = [-0.4, 4.3, -0.6]\n",
        "B = [-0.2, 0.2, 1]\n",
        "C = [-0.2, 2.1, -1.5]\n",
        " \n",
        "#Calculation Steps\n",
        "R = cross(A,B)\n",
        "R1 = add(R,B)\n",
        "R2 = cross(A, R1)\n",
        "R3 = divide(R2, C)\n",
        "R4 = add(square(A),square(B))\n",
        "R5 = add(square(C),R4)\n",
        "R6 = cross(R5, R3)\n",
        "R7 = add(A,B)\n",
        "R8 = norm(add(R7, C))\n",
        "R9 = scalar(R8, R6)\n",
        " \n",
        "#Plot A, B, and C with Resultant Vector R\n",
        "fig = plt.figure()\n",
        "ax = plt.axes(projection='3d')\n",
        " \n",
        "ax.set_title('R={}'.format(vecround(R9)))\n",
        " \n",
        "ax.set_xlim3d(-1,5)\n",
        "ax.set_ylim3d(-1,5)\n",
        "ax.set_zlim3d(-5,5)\n",
        " \n",
        "ax.set_xlabel('X Axes')\n",
        "ax.set_ylabel('Y Axes')\n",
        "ax.set_zlabel('Z Axes')\n",
        " \n",
        "ax.quiver(0,0,0,A[0],A[1],A[2],color='green')\n",
        "ax.quiver(0,0,0,B[0],B[1],B[2],color='green')\n",
        "ax.quiver(0,0,0,C[0],C[1],C[2],color='green')\n",
        "ax.quiver(0,0,0,R9[0],R9[1],R9[2],color='red')\n",
        " \n",
        "plt.show()\n",
        " \n",
        "##END PROGRAM##"
      ],
      "execution_count": 5,
      "outputs": [
        {
          "output_type": "display_data",
          "data": {
            "image/png": "[encoded data removed]",
            "text/plain": [
              "<Figure size 432x288 with 1 Axes>"
            ]
          },
          "metadata": {
            "tags": [],
            "needs_background": "light"
          }
        }
      ]
    }
  ]
}